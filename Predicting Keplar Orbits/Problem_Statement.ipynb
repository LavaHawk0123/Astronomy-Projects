{
 "cells": [
  {
   "cell_type": "markdown",
   "id": "a9d08e6c",
   "metadata": {},
   "source": [
    "# Problem Statement\n",
    "In this problem, we want to study the orbit of a comet, whose <a href='https://en.wikipedia.org/wiki/Astrometry'>astrometry</a> data is provided. For this problem, make the following three important simplifying assumptions -\n",
    "<ol><li> The orbit of the earth is perfectly circular with radius = 1<a href='https://en.wikipedia.org/wiki/Astronomical_unit'>AU</a> and time period = 1 year</li>\n",
    "    <li> The orbit of the comet is coplanar to the orbit of the earth </li>\n",
    "    <li> Gravitational effects of the earth on the comet can be neglected</li>\n",
    "</ol>\n",
    "As usual, <a href='https://en.wikipedia.org/wiki/Kepler%27s_laws_of_planetary_motion'>Kepler's laws of planetary motion</a> are obeyed by all orbits.\n",
    "An astronomer (sitting on earth, naturally) has measured the distance of a certain comet from earth and the angle between the comet and the sun, as seen from earth (where a negative sign indicates that the comet is to the west of the sun). The time of observation after the first observation (in years), distance between earth and the comet (in AU) and the angle between the sun and the comet (in radians) is given in the data file CometData.csv. \n",
    "\n",
    "Your task, should you choose to attempt this problem, is to help the astronomer to determine whether the comet is moving in an elliptical or hyperbolic orbit around the sun, and what the time period is (if elliptic) or the distance of closest approach to the sun (if hyperbolic).\n",
    "\n",
    "You should submit a small writeup about your approach/method to this problem (can be a scanned handwritten document) and a jupyter notebook that implements this approach. You should explicitly calculate the eccentricity, and time period or distance of closest approach of the orbit (and include this value at the end of your writeup). Additionally, make a scatterplot of the position of the comet with respect to the sun. "
   ]
  },
  {
   "cell_type": "markdown",
   "id": "f0301c96",
   "metadata": {},
   "source": [
    "# Hints\n",
    "We expect that you are familiar with basic python (vanilla python, numpy,function and matplotlib) which is covered in the first four notebooks of <a href= 'https://github.com/krittikaiitb/tutorials'> Krittika Python Tutorials</a>. Apart from this, the following resources/hints might be specifically useful for this problem.\n",
    "### 1) Polar equation of Conic sections\n",
    "The equation of a general conic section, with eccentricity $e$ and length of semilatus-rectum $r_0$ is given by $$r(\\theta) = \\frac{r_0}{1+e \\cos(\\theta - \\theta_0)}$$ where the focus of this conic section is at the origin and $\\theta_0$ is the angle of 'tilting'. Recall further that $r_0 = a(1-e^2)$ where $a$ is the length of semimajor axis.\n",
    "### 2) scipy.optimize.curve_fit\n",
    "This library function can help you to fit a function to some given data. Official documentation for this function is given at <a href='https://docs.scipy.org/doc/scipy/reference/generated/scipy.optimize.curve_fit.html'>this link</a>. This is also covered in Tutorial 7 of the <a href= 'https://github.com/krittikaiitb/tutorials'> Krittika Python Tutorials</a>\n",
    "### 3) Polar plots with matplotlib\n",
    "Making polar plots with matplotlib is understandably important for this question. A demo of a polar scatter plot is provided in official matplotlib documentation at <a href='https://matplotlib.org/stable/gallery/pie_and_polar_charts/polar_scatter.html'>this link</a>. A similar demo for a line plot is given <a href='https://matplotlib.org/stable/gallery/pie_and_polar_charts/polar_demo.html'>here</a>."
   ]
  },
  {
   "cell_type": "code",
   "execution_count": 3,
   "id": "23c64010",
   "metadata": {},
   "outputs": [
    {
     "name": "stdout",
     "output_type": "stream",
     "text": [
      "/usr/lib/python3/dist-packages/secretstorage/dhcrypto.py:15: CryptographyDeprecationWarning: int_from_bytes is deprecated, use int.from_bytes instead\n",
      "  from cryptography.utils import int_from_bytes\n",
      "/usr/lib/python3/dist-packages/secretstorage/util.py:19: CryptographyDeprecationWarning: int_from_bytes is deprecated, use int.from_bytes instead\n",
      "  from cryptography.utils import int_from_bytes\n",
      "Defaulting to user installation because normal site-packages is not writeable\n",
      "Requirement already satisfied: pandas in /home/hp/.local/lib/python3.6/site-packages (1.1.5)\n",
      "Requirement already satisfied: numpy>=1.15.4 in /home/hp/.local/lib/python3.6/site-packages (from pandas) (1.19.5)\n",
      "Requirement already satisfied: python-dateutil>=2.7.3 in /home/hp/.local/lib/python3.6/site-packages (from pandas) (2.8.1)\n",
      "Requirement already satisfied: pytz>=2017.2 in /usr/lib/python3/dist-packages (from pandas) (2018.3)\n",
      "Requirement already satisfied: six>=1.5 in /usr/lib/python3/dist-packages (from python-dateutil>=2.7.3->pandas) (1.11.0)\n",
      "/usr/lib/python3/dist-packages/secretstorage/dhcrypto.py:15: CryptographyDeprecationWarning: int_from_bytes is deprecated, use int.from_bytes instead\n",
      "  from cryptography.utils import int_from_bytes\n",
      "/usr/lib/python3/dist-packages/secretstorage/util.py:19: CryptographyDeprecationWarning: int_from_bytes is deprecated, use int.from_bytes instead\n",
      "  from cryptography.utils import int_from_bytes\n",
      "Defaulting to user installation because normal site-packages is not writeable\n",
      "Requirement already satisfied: numpy in /home/hp/.local/lib/python3.6/site-packages (1.19.5)\n"
     ]
    }
   ],
   "source": [
    "!pip install pandas\n",
    "!pip install numpy\n",
    "import pandas as pd\n",
    "import numpy as np\n",
    "import matplotlib.pyplot as plt\n",
    "from sklearn.model_selection import train_test_split\n",
    "from sklearn.linear_model import LinearRegression\n",
    "from sklearn.linear_model import ElasticNet\n",
    "import math\n",
    "import sys\n",
    "from scipy.optimize import curve_fit"
   ]
  },
  {
   "cell_type": "code",
   "execution_count": 4,
   "id": "51494cbb",
   "metadata": {},
   "outputs": [],
   "source": [
    "#Reading data from csv file\n",
    "df = pd.read_csv(\"/home/hp/Krittika_task/KSP2021-selection/CometData.csv\",delimiter =\",\", error_bad_lines=False)\n",
    "#printing the sataframe\n",
    "df_orig = pd.read_csv(\"/home/hp/Krittika_task/KSP2021-selection/CometData.csv\",delimiter =\",\", error_bad_lines=False)"
   ]
  },
  {
   "cell_type": "code",
   "execution_count": 5,
   "id": "fdb04810",
   "metadata": {},
   "outputs": [
    {
     "name": "stdout",
     "output_type": "stream",
     "text": [
      "The following assumptions are taken : \n",
      "1) The orbit of the earth is perfectly circular with radius = 1AU and time period = 1 year\n",
      "2) The orbit of the comet is coplanar to the orbit of the earth\n",
      "3) Gravitational effects of the earth on the comet can be neglected\n"
     ]
    }
   ],
   "source": [
    "# Printing the assumptions within the model\n",
    "\n",
    "Assumptions = [\"The orbit of the earth is perfectly circular with radius = 1AU and time period = 1 year\",\"The orbit of the comet is coplanar to the orbit of the earth\",\"Gravitational effects of the earth on the comet can be neglected\"]\n",
    "print(\"The following assumptions are taken : \")\n",
    "for i in Assumptions:\n",
    "    print(str(Assumptions.index(i)+1)+\") \"+i)"
   ]
  },
  {
   "cell_type": "code",
   "execution_count": 6,
   "id": "0425ef5c",
   "metadata": {},
   "outputs": [],
   "source": [
    "df.drop(\"Angle between comet and sun(radians)\",inplace=True,axis=1)"
   ]
  },
  {
   "cell_type": "code",
   "execution_count": 7,
   "id": "f9b6817b",
   "metadata": {},
   "outputs": [
    {
     "data": {
      "text/html": [
       "<div>\n",
       "<style scoped>\n",
       "    .dataframe tbody tr th:only-of-type {\n",
       "        vertical-align: middle;\n",
       "    }\n",
       "\n",
       "    .dataframe tbody tr th {\n",
       "        vertical-align: top;\n",
       "    }\n",
       "\n",
       "    .dataframe thead th {\n",
       "        text-align: right;\n",
       "    }\n",
       "</style>\n",
       "<table border=\"1\" class=\"dataframe\">\n",
       "  <thead>\n",
       "    <tr style=\"text-align: right;\">\n",
       "      <th></th>\n",
       "      <th># Time(in years)</th>\n",
       "      <th>Distance from earth(AU)</th>\n",
       "    </tr>\n",
       "  </thead>\n",
       "  <tbody>\n",
       "    <tr>\n",
       "      <th>0</th>\n",
       "      <td>0.000000</td>\n",
       "      <td>1.353157</td>\n",
       "    </tr>\n",
       "    <tr>\n",
       "      <th>1</th>\n",
       "      <td>0.089979</td>\n",
       "      <td>1.582030</td>\n",
       "    </tr>\n",
       "    <tr>\n",
       "      <th>2</th>\n",
       "      <td>0.179959</td>\n",
       "      <td>1.931745</td>\n",
       "    </tr>\n",
       "    <tr>\n",
       "      <th>3</th>\n",
       "      <td>0.269938</td>\n",
       "      <td>2.390494</td>\n",
       "    </tr>\n",
       "    <tr>\n",
       "      <th>4</th>\n",
       "      <td>0.359918</td>\n",
       "      <td>2.908153</td>\n",
       "    </tr>\n",
       "    <tr>\n",
       "      <th>...</th>\n",
       "      <td>...</td>\n",
       "      <td>...</td>\n",
       "    </tr>\n",
       "    <tr>\n",
       "      <th>95</th>\n",
       "      <td>8.548049</td>\n",
       "      <td>19.145691</td>\n",
       "    </tr>\n",
       "    <tr>\n",
       "      <th>96</th>\n",
       "      <td>8.638029</td>\n",
       "      <td>19.760386</td>\n",
       "    </tr>\n",
       "    <tr>\n",
       "      <th>97</th>\n",
       "      <td>8.728008</td>\n",
       "      <td>20.170135</td>\n",
       "    </tr>\n",
       "    <tr>\n",
       "      <th>98</th>\n",
       "      <td>8.817988</td>\n",
       "      <td>20.295708</td>\n",
       "    </tr>\n",
       "    <tr>\n",
       "      <th>99</th>\n",
       "      <td>8.907967</td>\n",
       "      <td>20.135725</td>\n",
       "    </tr>\n",
       "  </tbody>\n",
       "</table>\n",
       "<p>100 rows × 2 columns</p>\n",
       "</div>"
      ],
      "text/plain": [
       "    # Time(in years)  Distance from earth(AU)\n",
       "0           0.000000                 1.353157\n",
       "1           0.089979                 1.582030\n",
       "2           0.179959                 1.931745\n",
       "3           0.269938                 2.390494\n",
       "4           0.359918                 2.908153\n",
       "..               ...                      ...\n",
       "95          8.548049                19.145691\n",
       "96          8.638029                19.760386\n",
       "97          8.728008                20.170135\n",
       "98          8.817988                20.295708\n",
       "99          8.907967                20.135725\n",
       "\n",
       "[100 rows x 2 columns]"
      ]
     },
     "execution_count": 7,
     "metadata": {},
     "output_type": "execute_result"
    }
   ],
   "source": [
    "df"
   ]
  },
  {
   "cell_type": "code",
   "execution_count": 8,
   "id": "584e1e6e",
   "metadata": {},
   "outputs": [
    {
     "name": "stdout",
     "output_type": "stream",
     "text": [
      "Angluar velocity of earth = 1.9923849908611068e-07 rad/s\n"
     ]
    }
   ],
   "source": [
    "# Calculation of angular velocity of earth\n",
    "sec = 365*24*60*60\n",
    "w_E = (2*np.pi)/sec\n",
    "print(\"Angluar velocity of earth = \"+str(w_E)+\" rad/s\")"
   ]
  },
  {
   "cell_type": "code",
   "execution_count": 9,
   "id": "d4702030",
   "metadata": {},
   "outputs": [],
   "source": [
    "#Change Column Alaises\n",
    "df.columns = ['Time', 'Distance']"
   ]
  },
  {
   "cell_type": "code",
   "execution_count": 10,
   "id": "48c7e0bd",
   "metadata": {},
   "outputs": [],
   "source": [
    "# Calculating Angular displacement for every case\n",
    "time = np.array(df['Time'])\n",
    "df_orig.columns = ['Time', 'Distance','Angle_sun']"
   ]
  },
  {
   "cell_type": "code",
   "execution_count": 11,
   "id": "a6e7c1cc",
   "metadata": {},
   "outputs": [],
   "source": [
    "ang_disp = time*(w_E)*sec \n",
    "conv = np.pi/180\n",
    "#for i in range(0,len(ang_disp)):\n",
    "#    if((ang_disp[i]*conv)>90):\n",
    "#        ang_disp[i] = ((ang_disp[i])%180)\n",
    "df_orig['Earth_ang'] = ang_disp*conv\n",
    "diff = np.array(df_orig['Angle_sun']-(ang_disp*conv))\n",
    "df_orig['Ref_dispangle'] = (df_orig['Angle_sun']-(ang_disp*conv)).tolist()"
   ]
  },
  {
   "cell_type": "code",
   "execution_count": 12,
   "id": "0847027a",
   "metadata": {},
   "outputs": [
    {
     "data": {
      "text/html": [
       "<div>\n",
       "<style scoped>\n",
       "    .dataframe tbody tr th:only-of-type {\n",
       "        vertical-align: middle;\n",
       "    }\n",
       "\n",
       "    .dataframe tbody tr th {\n",
       "        vertical-align: top;\n",
       "    }\n",
       "\n",
       "    .dataframe thead th {\n",
       "        text-align: right;\n",
       "    }\n",
       "</style>\n",
       "<table border=\"1\" class=\"dataframe\">\n",
       "  <thead>\n",
       "    <tr style=\"text-align: right;\">\n",
       "      <th></th>\n",
       "      <th>Time</th>\n",
       "      <th>Distance</th>\n",
       "      <th>Angle_sun</th>\n",
       "      <th>Earth_ang</th>\n",
       "      <th>Ref_dispangle</th>\n",
       "    </tr>\n",
       "  </thead>\n",
       "  <tbody>\n",
       "    <tr>\n",
       "      <th>0</th>\n",
       "      <td>0.000000</td>\n",
       "      <td>1.353157</td>\n",
       "      <td>1.470480</td>\n",
       "      <td>0.000000</td>\n",
       "      <td>1.470480</td>\n",
       "    </tr>\n",
       "    <tr>\n",
       "      <th>1</th>\n",
       "      <td>0.089979</td>\n",
       "      <td>1.582030</td>\n",
       "      <td>1.328161</td>\n",
       "      <td>0.009867</td>\n",
       "      <td>1.318294</td>\n",
       "    </tr>\n",
       "    <tr>\n",
       "      <th>2</th>\n",
       "      <td>0.179959</td>\n",
       "      <td>1.931745</td>\n",
       "      <td>1.184737</td>\n",
       "      <td>0.019735</td>\n",
       "      <td>1.165002</td>\n",
       "    </tr>\n",
       "    <tr>\n",
       "      <th>3</th>\n",
       "      <td>0.269938</td>\n",
       "      <td>2.390494</td>\n",
       "      <td>1.000644</td>\n",
       "      <td>0.029602</td>\n",
       "      <td>0.971042</td>\n",
       "    </tr>\n",
       "    <tr>\n",
       "      <th>4</th>\n",
       "      <td>0.359918</td>\n",
       "      <td>2.908153</td>\n",
       "      <td>0.767607</td>\n",
       "      <td>0.039469</td>\n",
       "      <td>0.728137</td>\n",
       "    </tr>\n",
       "    <tr>\n",
       "      <th>...</th>\n",
       "      <td>...</td>\n",
       "      <td>...</td>\n",
       "      <td>...</td>\n",
       "      <td>...</td>\n",
       "      <td>...</td>\n",
       "    </tr>\n",
       "    <tr>\n",
       "      <th>95</th>\n",
       "      <td>8.548049</td>\n",
       "      <td>19.145691</td>\n",
       "      <td>1.362696</td>\n",
       "      <td>0.937398</td>\n",
       "      <td>0.425297</td>\n",
       "    </tr>\n",
       "    <tr>\n",
       "      <th>96</th>\n",
       "      <td>8.638029</td>\n",
       "      <td>19.760386</td>\n",
       "      <td>0.813626</td>\n",
       "      <td>0.947266</td>\n",
       "      <td>-0.133640</td>\n",
       "    </tr>\n",
       "    <tr>\n",
       "      <th>97</th>\n",
       "      <td>8.728008</td>\n",
       "      <td>20.170135</td>\n",
       "      <td>0.274944</td>\n",
       "      <td>0.957133</td>\n",
       "      <td>-0.682190</td>\n",
       "    </tr>\n",
       "    <tr>\n",
       "      <th>98</th>\n",
       "      <td>8.817988</td>\n",
       "      <td>20.295708</td>\n",
       "      <td>-0.260279</td>\n",
       "      <td>0.967001</td>\n",
       "      <td>-1.227280</td>\n",
       "    </tr>\n",
       "    <tr>\n",
       "      <th>99</th>\n",
       "      <td>8.907967</td>\n",
       "      <td>20.135725</td>\n",
       "      <td>-0.799430</td>\n",
       "      <td>0.976868</td>\n",
       "      <td>-1.776298</td>\n",
       "    </tr>\n",
       "  </tbody>\n",
       "</table>\n",
       "<p>100 rows × 5 columns</p>\n",
       "</div>"
      ],
      "text/plain": [
       "        Time   Distance  Angle_sun  Earth_ang  Ref_dispangle\n",
       "0   0.000000   1.353157   1.470480   0.000000       1.470480\n",
       "1   0.089979   1.582030   1.328161   0.009867       1.318294\n",
       "2   0.179959   1.931745   1.184737   0.019735       1.165002\n",
       "3   0.269938   2.390494   1.000644   0.029602       0.971042\n",
       "4   0.359918   2.908153   0.767607   0.039469       0.728137\n",
       "..       ...        ...        ...        ...            ...\n",
       "95  8.548049  19.145691   1.362696   0.937398       0.425297\n",
       "96  8.638029  19.760386   0.813626   0.947266      -0.133640\n",
       "97  8.728008  20.170135   0.274944   0.957133      -0.682190\n",
       "98  8.817988  20.295708  -0.260279   0.967001      -1.227280\n",
       "99  8.907967  20.135725  -0.799430   0.976868      -1.776298\n",
       "\n",
       "[100 rows x 5 columns]"
      ]
     },
     "execution_count": 12,
     "metadata": {},
     "output_type": "execute_result"
    }
   ],
   "source": [
    "df_orig"
   ]
  },
  {
   "cell_type": "code",
   "execution_count": 13,
   "id": "af5c17d2",
   "metadata": {},
   "outputs": [],
   "source": [
    "#Converting to cosines to apply cosine rule\n",
    "#cos = math.cos(ang_disp)\n",
    "#ang_disp.shape = (100,1)\n",
    "z = np.ones((100,1), dtype=np.float)\n",
    "for i in range(0,len(diff)):\n",
    "    z[i][0] = float(math.cos(diff[i]))"
   ]
  },
  {
   "cell_type": "code",
   "execution_count": 14,
   "id": "d0eab243",
   "metadata": {},
   "outputs": [
    {
     "name": "stdout",
     "output_type": "stream",
     "text": [
      "Assumptions on Earths Orbit :\n",
      "Perihelion (10^6 km) (a) : 147.092\n",
      "Aphelion (10^6 km) (b)   : 152.099\n",
      "Mean Radius = (a+b)/2\n"
     ]
    }
   ],
   "source": [
    "print(\"Assumptions on Earths Orbit :\")\n",
    "print(\"Perihelion (10^6 km) (a) : 147.092\")        \n",
    "print(\"Aphelion (10^6 km) (b)   : 152.099\")\n",
    "print(\"Mean Radius = (a+b)/2\")"
   ]
  },
  {
   "cell_type": "code",
   "execution_count": 15,
   "id": "05895bef",
   "metadata": {},
   "outputs": [],
   "source": [
    "R = 149598262 # setting orbital radius\n",
    "d = df['Distance']\n",
    "D_max = np.ones((100,1), dtype=np.float)\n",
    "D_min = np.ones((100,1), dtype=np.float)\n",
    "d2 = np.ones((100,1), dtype=np.float)\n",
    "R2 = R**2\n",
    "z2 = np.ones((100,1), dtype=np.float)\n",
    "for i in range(0,len(ang_disp)):\n",
    "    z2[i][0] = (z[i][0])**2\n",
    "    d2[i] = d[i]**2"
   ]
  },
  {
   "cell_type": "code",
   "execution_count": 16,
   "id": "a5bc3947",
   "metadata": {},
   "outputs": [],
   "source": [
    "for i in range(0,len(ang_disp)):\n",
    " diff_sq = ((R2-(d2[i]*R)))\n",
    " D_max[i] = (R*z[i])+math.sqrt(math.fabs(((R2*z2[i]))-((diff_sq)**2)))\n",
    " D_min[i] = (R*z[i])-math.sqrt(math.fabs(((R2*z2[i]))-((diff_sq)**2)))#-d2[i])**2))"
   ]
  },
  {
   "cell_type": "code",
   "execution_count": 17,
   "id": "cc3e6bea",
   "metadata": {},
   "outputs": [],
   "source": [
    "df_orig['SC_Distance'] = D_max"
   ]
  },
  {
   "cell_type": "code",
   "execution_count": 18,
   "id": "9c207492",
   "metadata": {},
   "outputs": [
    {
     "data": {
      "text/html": [
       "<div>\n",
       "<style scoped>\n",
       "    .dataframe tbody tr th:only-of-type {\n",
       "        vertical-align: middle;\n",
       "    }\n",
       "\n",
       "    .dataframe tbody tr th {\n",
       "        vertical-align: top;\n",
       "    }\n",
       "\n",
       "    .dataframe thead th {\n",
       "        text-align: right;\n",
       "    }\n",
       "</style>\n",
       "<table border=\"1\" class=\"dataframe\">\n",
       "  <thead>\n",
       "    <tr style=\"text-align: right;\">\n",
       "      <th></th>\n",
       "      <th>Time</th>\n",
       "      <th>Distance</th>\n",
       "      <th>Angle_sun</th>\n",
       "      <th>Earth_ang</th>\n",
       "      <th>Ref_dispangle</th>\n",
       "      <th>SC_Distance</th>\n",
       "    </tr>\n",
       "  </thead>\n",
       "  <tbody>\n",
       "    <tr>\n",
       "      <th>0</th>\n",
       "      <td>0.000000</td>\n",
       "      <td>1.353157</td>\n",
       "      <td>1.470480</td>\n",
       "      <td>0.000000</td>\n",
       "      <td>1.470480</td>\n",
       "      <td>2.237964e+16</td>\n",
       "    </tr>\n",
       "    <tr>\n",
       "      <th>1</th>\n",
       "      <td>0.089979</td>\n",
       "      <td>1.582030</td>\n",
       "      <td>1.328161</td>\n",
       "      <td>0.009867</td>\n",
       "      <td>1.318294</td>\n",
       "      <td>2.237964e+16</td>\n",
       "    </tr>\n",
       "    <tr>\n",
       "      <th>2</th>\n",
       "      <td>0.179959</td>\n",
       "      <td>1.931745</td>\n",
       "      <td>1.184737</td>\n",
       "      <td>0.019735</td>\n",
       "      <td>1.165002</td>\n",
       "      <td>2.237964e+16</td>\n",
       "    </tr>\n",
       "    <tr>\n",
       "      <th>3</th>\n",
       "      <td>0.269938</td>\n",
       "      <td>2.390494</td>\n",
       "      <td>1.000644</td>\n",
       "      <td>0.029602</td>\n",
       "      <td>0.971042</td>\n",
       "      <td>2.237964e+16</td>\n",
       "    </tr>\n",
       "    <tr>\n",
       "      <th>4</th>\n",
       "      <td>0.359918</td>\n",
       "      <td>2.908153</td>\n",
       "      <td>0.767607</td>\n",
       "      <td>0.039469</td>\n",
       "      <td>0.728137</td>\n",
       "      <td>2.237964e+16</td>\n",
       "    </tr>\n",
       "    <tr>\n",
       "      <th>...</th>\n",
       "      <td>...</td>\n",
       "      <td>...</td>\n",
       "      <td>...</td>\n",
       "      <td>...</td>\n",
       "      <td>...</td>\n",
       "      <td>...</td>\n",
       "    </tr>\n",
       "    <tr>\n",
       "      <th>95</th>\n",
       "      <td>8.548049</td>\n",
       "      <td>19.145691</td>\n",
       "      <td>1.362696</td>\n",
       "      <td>0.937398</td>\n",
       "      <td>0.425297</td>\n",
       "      <td>2.237959e+16</td>\n",
       "    </tr>\n",
       "    <tr>\n",
       "      <th>96</th>\n",
       "      <td>8.638029</td>\n",
       "      <td>19.760386</td>\n",
       "      <td>0.813626</td>\n",
       "      <td>0.947266</td>\n",
       "      <td>-0.133640</td>\n",
       "      <td>2.237958e+16</td>\n",
       "    </tr>\n",
       "    <tr>\n",
       "      <th>97</th>\n",
       "      <td>8.728008</td>\n",
       "      <td>20.170135</td>\n",
       "      <td>0.274944</td>\n",
       "      <td>0.957133</td>\n",
       "      <td>-0.682190</td>\n",
       "      <td>2.237958e+16</td>\n",
       "    </tr>\n",
       "    <tr>\n",
       "      <th>98</th>\n",
       "      <td>8.817988</td>\n",
       "      <td>20.295708</td>\n",
       "      <td>-0.260279</td>\n",
       "      <td>0.967001</td>\n",
       "      <td>-1.227280</td>\n",
       "      <td>2.237958e+16</td>\n",
       "    </tr>\n",
       "    <tr>\n",
       "      <th>99</th>\n",
       "      <td>8.907967</td>\n",
       "      <td>20.135725</td>\n",
       "      <td>-0.799430</td>\n",
       "      <td>0.976868</td>\n",
       "      <td>-1.776298</td>\n",
       "      <td>2.237958e+16</td>\n",
       "    </tr>\n",
       "  </tbody>\n",
       "</table>\n",
       "<p>100 rows × 6 columns</p>\n",
       "</div>"
      ],
      "text/plain": [
       "        Time   Distance  Angle_sun  Earth_ang  Ref_dispangle   SC_Distance\n",
       "0   0.000000   1.353157   1.470480   0.000000       1.470480  2.237964e+16\n",
       "1   0.089979   1.582030   1.328161   0.009867       1.318294  2.237964e+16\n",
       "2   0.179959   1.931745   1.184737   0.019735       1.165002  2.237964e+16\n",
       "3   0.269938   2.390494   1.000644   0.029602       0.971042  2.237964e+16\n",
       "4   0.359918   2.908153   0.767607   0.039469       0.728137  2.237964e+16\n",
       "..       ...        ...        ...        ...            ...           ...\n",
       "95  8.548049  19.145691   1.362696   0.937398       0.425297  2.237959e+16\n",
       "96  8.638029  19.760386   0.813626   0.947266      -0.133640  2.237958e+16\n",
       "97  8.728008  20.170135   0.274944   0.957133      -0.682190  2.237958e+16\n",
       "98  8.817988  20.295708  -0.260279   0.967001      -1.227280  2.237958e+16\n",
       "99  8.907967  20.135725  -0.799430   0.976868      -1.776298  2.237958e+16\n",
       "\n",
       "[100 rows x 6 columns]"
      ]
     },
     "execution_count": 18,
     "metadata": {},
     "output_type": "execute_result"
    }
   ],
   "source": [
    "df_orig"
   ]
  },
  {
   "cell_type": "code",
   "execution_count": 19,
   "id": "808b983f",
   "metadata": {},
   "outputs": [
    {
     "data": {
      "text/plain": [
       "2.237960907820266e+16"
      ]
     },
     "execution_count": 19,
     "metadata": {},
     "output_type": "execute_result"
    }
   ],
   "source": [
    "sc_max = df_orig['SC_Distance'].max()\n",
    "sc_min = df_orig['SC_Distance'].min()\n",
    "p = (sc_max+sc_min)/2\n",
    "p"
   ]
  },
  {
   "cell_type": "code",
   "execution_count": 20,
   "id": "34fe0a56",
   "metadata": {},
   "outputs": [],
   "source": [
    "dist_sc = D_max.tolist()\n",
    "ratio =np.ones((100,1), dtype=np.float)\n",
    "for i in range(0,len(df_orig['SC_Distance'])):\n",
    "    ratio[i] = float(p/int(dist_sc[i][0])-1)\n",
    "df_orig['Ratio'] = np.float64(ratio*1000000)\n",
    "df_orig['Cos_angle'] = z*1000000"
   ]
  },
  {
   "cell_type": "code",
   "execution_count": 21,
   "id": "aab61a82",
   "metadata": {},
   "outputs": [
    {
     "data": {
      "text/html": [
       "<div>\n",
       "<style scoped>\n",
       "    .dataframe tbody tr th:only-of-type {\n",
       "        vertical-align: middle;\n",
       "    }\n",
       "\n",
       "    .dataframe tbody tr th {\n",
       "        vertical-align: top;\n",
       "    }\n",
       "\n",
       "    .dataframe thead th {\n",
       "        text-align: right;\n",
       "    }\n",
       "</style>\n",
       "<table border=\"1\" class=\"dataframe\">\n",
       "  <thead>\n",
       "    <tr style=\"text-align: right;\">\n",
       "      <th></th>\n",
       "      <th>Time</th>\n",
       "      <th>Distance</th>\n",
       "      <th>Angle_sun</th>\n",
       "      <th>Earth_ang</th>\n",
       "      <th>Ref_dispangle</th>\n",
       "      <th>SC_Distance</th>\n",
       "      <th>Ratio</th>\n",
       "      <th>Cos_angle</th>\n",
       "    </tr>\n",
       "  </thead>\n",
       "  <tbody>\n",
       "    <tr>\n",
       "      <th>0</th>\n",
       "      <td>0.000000</td>\n",
       "      <td>1.353157</td>\n",
       "      <td>1.470480</td>\n",
       "      <td>0.000000</td>\n",
       "      <td>1.470480</td>\n",
       "      <td>2.237964e+16</td>\n",
       "      <td>-1.369829</td>\n",
       "      <td>100148.287818</td>\n",
       "    </tr>\n",
       "    <tr>\n",
       "      <th>1</th>\n",
       "      <td>0.089979</td>\n",
       "      <td>1.582030</td>\n",
       "      <td>1.328161</td>\n",
       "      <td>0.009867</td>\n",
       "      <td>1.318294</td>\n",
       "      <td>2.237964e+16</td>\n",
       "      <td>-1.366339</td>\n",
       "      <td>249827.816660</td>\n",
       "    </tr>\n",
       "    <tr>\n",
       "      <th>2</th>\n",
       "      <td>0.179959</td>\n",
       "      <td>1.931745</td>\n",
       "      <td>1.184737</td>\n",
       "      <td>0.019735</td>\n",
       "      <td>1.165002</td>\n",
       "      <td>2.237964e+16</td>\n",
       "      <td>-1.359094</td>\n",
       "      <td>394748.416338</td>\n",
       "    </tr>\n",
       "    <tr>\n",
       "      <th>3</th>\n",
       "      <td>0.269938</td>\n",
       "      <td>2.390494</td>\n",
       "      <td>1.000644</td>\n",
       "      <td>0.029602</td>\n",
       "      <td>0.971042</td>\n",
       "      <td>2.237964e+16</td>\n",
       "      <td>-1.346974</td>\n",
       "      <td>564439.976746</td>\n",
       "    </tr>\n",
       "    <tr>\n",
       "      <th>4</th>\n",
       "      <td>0.359918</td>\n",
       "      <td>2.908153</td>\n",
       "      <td>0.767607</td>\n",
       "      <td>0.039469</td>\n",
       "      <td>0.728137</td>\n",
       "      <td>2.237964e+16</td>\n",
       "      <td>-1.329855</td>\n",
       "      <td>746415.375341</td>\n",
       "    </tr>\n",
       "    <tr>\n",
       "      <th>...</th>\n",
       "      <td>...</td>\n",
       "      <td>...</td>\n",
       "      <td>...</td>\n",
       "      <td>...</td>\n",
       "      <td>...</td>\n",
       "      <td>...</td>\n",
       "      <td>...</td>\n",
       "      <td>...</td>\n",
       "    </tr>\n",
       "    <tr>\n",
       "      <th>95</th>\n",
       "      <td>8.548049</td>\n",
       "      <td>19.145691</td>\n",
       "      <td>1.362696</td>\n",
       "      <td>0.937398</td>\n",
       "      <td>0.425297</td>\n",
       "      <td>2.237959e+16</td>\n",
       "      <td>1.062793</td>\n",
       "      <td>910916.118195</td>\n",
       "    </tr>\n",
       "    <tr>\n",
       "      <th>96</th>\n",
       "      <td>8.638029</td>\n",
       "      <td>19.760386</td>\n",
       "      <td>0.813626</td>\n",
       "      <td>0.947266</td>\n",
       "      <td>-0.133640</td>\n",
       "      <td>2.237958e+16</td>\n",
       "      <td>1.222122</td>\n",
       "      <td>991083.517023</td>\n",
       "    </tr>\n",
       "    <tr>\n",
       "      <th>97</th>\n",
       "      <td>8.728008</td>\n",
       "      <td>20.170135</td>\n",
       "      <td>0.274944</td>\n",
       "      <td>0.957133</td>\n",
       "      <td>-0.682190</td>\n",
       "      <td>2.237958e+16</td>\n",
       "      <td>1.332928</td>\n",
       "      <td>776194.035734</td>\n",
       "    </tr>\n",
       "    <tr>\n",
       "      <th>98</th>\n",
       "      <td>8.817988</td>\n",
       "      <td>20.295708</td>\n",
       "      <td>-0.260279</td>\n",
       "      <td>0.967001</td>\n",
       "      <td>-1.227280</td>\n",
       "      <td>2.237958e+16</td>\n",
       "      <td>1.369833</td>\n",
       "      <td>336800.053967</td>\n",
       "    </tr>\n",
       "    <tr>\n",
       "      <th>99</th>\n",
       "      <td>8.907967</td>\n",
       "      <td>20.135725</td>\n",
       "      <td>-0.799430</td>\n",
       "      <td>0.976868</td>\n",
       "      <td>-1.776298</td>\n",
       "      <td>2.237958e+16</td>\n",
       "      <td>1.330210</td>\n",
       "      <td>-204058.383337</td>\n",
       "    </tr>\n",
       "  </tbody>\n",
       "</table>\n",
       "<p>100 rows × 8 columns</p>\n",
       "</div>"
      ],
      "text/plain": [
       "        Time   Distance  Angle_sun  Earth_ang  Ref_dispangle   SC_Distance  \\\n",
       "0   0.000000   1.353157   1.470480   0.000000       1.470480  2.237964e+16   \n",
       "1   0.089979   1.582030   1.328161   0.009867       1.318294  2.237964e+16   \n",
       "2   0.179959   1.931745   1.184737   0.019735       1.165002  2.237964e+16   \n",
       "3   0.269938   2.390494   1.000644   0.029602       0.971042  2.237964e+16   \n",
       "4   0.359918   2.908153   0.767607   0.039469       0.728137  2.237964e+16   \n",
       "..       ...        ...        ...        ...            ...           ...   \n",
       "95  8.548049  19.145691   1.362696   0.937398       0.425297  2.237959e+16   \n",
       "96  8.638029  19.760386   0.813626   0.947266      -0.133640  2.237958e+16   \n",
       "97  8.728008  20.170135   0.274944   0.957133      -0.682190  2.237958e+16   \n",
       "98  8.817988  20.295708  -0.260279   0.967001      -1.227280  2.237958e+16   \n",
       "99  8.907967  20.135725  -0.799430   0.976868      -1.776298  2.237958e+16   \n",
       "\n",
       "       Ratio      Cos_angle  \n",
       "0  -1.369829  100148.287818  \n",
       "1  -1.366339  249827.816660  \n",
       "2  -1.359094  394748.416338  \n",
       "3  -1.346974  564439.976746  \n",
       "4  -1.329855  746415.375341  \n",
       "..       ...            ...  \n",
       "95  1.062793  910916.118195  \n",
       "96  1.222122  991083.517023  \n",
       "97  1.332928  776194.035734  \n",
       "98  1.369833  336800.053967  \n",
       "99  1.330210 -204058.383337  \n",
       "\n",
       "[100 rows x 8 columns]"
      ]
     },
     "execution_count": 21,
     "metadata": {},
     "output_type": "execute_result"
    }
   ],
   "source": [
    "df_orig"
   ]
  },
  {
   "cell_type": "code",
   "execution_count": 22,
   "id": "ddc13e18",
   "metadata": {
    "scrolled": true
   },
   "outputs": [
    {
     "data": {
      "image/png": "[encoded data removed]",
      "text/plain": [
       "<Figure size 432x288 with 1 Axes>"
      ]
     },
     "metadata": {
      "needs_background": "light"
     },
     "output_type": "display_data"
    }
   ],
   "source": [
    "\"\"\"\"df_orig.plot(x=\"Cos_angle\", y=\"Ratio\", style='o')\n",
    "plt.title('p/r v/s cos(teta)')\n",
    "plt.xlabel('cos(teta)')\n",
    "plt.ylabel('p/r')\n",
    "plt.show()\"\"\"\n",
    "fig, ax = plt.subplots(subplot_kw={'projection': 'polar'})\n",
    "ax.plot(df_orig['Ratio'], df_orig['Cos_angle'])\n",
    "ax.set_rmax(2)\n",
    "ax.set_rticks([0.5, 1, 1.5, 2])  # Less radial ticks\n",
    "ax.set_rlabel_position(-22.5)  # Move radial labels away from plotted line\n",
    "ax.grid(True)\n",
    "\n",
    "ax.set_title(\"A line plot on a polar axis\", va='bottom')\n",
    "plt.show()"
   ]
  },
  {
   "cell_type": "code",
   "execution_count": null,
   "id": "a5882cca",
   "metadata": {},
   "outputs": [],
   "source": [
    "# Fixing random state for reproducibility\n",
    "np.random.seed(19680801)\n",
    "\n",
    "# Compute areas and colors\n",
    "N = 150\n",
    "r = 2 * np.random.rand(N)\n",
    "theta = 2 * np.pi * np.random.rand(N)\n",
    "area = 200 * df_orig['SC_Distance']**2\n",
    "colors = df_orig['Cos_angle']\n",
    "\n",
    "fig = plt.figure()\n",
    "ax = fig.add_subplot(projection='polar')\n",
    "c = ax.scatter(df_orig['Cos_angle'], df_orig['SC_Distance'], c=colors, s=area, cmap='hsv', alpha=0.75)"
   ]
  },
  {
   "cell_type": "code",
   "execution_count": null,
   "id": "a3f90854",
   "metadata": {},
   "outputs": [],
   "source": [
    "regressor = ElasticNet(random_state=0)\n",
    "x_train = np.array(df_orig['Cos_angle'])\n",
    "y_train = np.array(df_orig['SC_Distance'])\n",
    "distance = np.array(df_orig['SC_Distance'])\n",
    "x_train.reshape(-1, 1)\n",
    "y_train.reshape(-1, 1)\n",
    "regressor.fit(z,ratio)\n",
    "w=regressor.intercept_\n",
    "print(abs(w))"
   ]
  },
  {
   "cell_type": "code",
   "execution_count": 395,
   "id": "a8e0978b",
   "metadata": {},
   "outputs": [],
   "source": [
    "def test(c,e):\n",
    "    #return ((-r*c) +math.sqrt(((r**2)*(c**2))-4*a*r - 4*a*(r**2)))/(2*a)\n",
    "    return p*(1-(e**2))/(1+e*c)"
   ]
  },
  {
   "cell_type": "code",
   "execution_count": 396,
   "id": "bc1b9354",
   "metadata": {
    "scrolled": true
   },
   "outputs": [],
   "source": [
    "param, param_cov = curve_fit(test,x_train, distance)"
   ]
  },
  {
   "cell_type": "code",
   "execution_count": 417,
   "id": "b039c3ee",
   "metadata": {},
   "outputs": [
    {
     "name": "stdout",
     "output_type": "stream",
     "text": [
      "Eccentricity of the keplar orbit of the comet = 0.5076764566408587\n",
      "Since eccentricity 0 < e < 1 => The orbit of the comet must be elliptical\n"
     ]
    }
   ],
   "source": [
    "print(\"Eccentricity of the keplar orbit of the comet = \"+str(param[0]/10000))\n",
    "print(\"Since eccentricity 0 < e < 1 => The orbit of the comet must be elliptical\")"
   ]
  },
  {
   "cell_type": "code",
   "execution_count": 410,
   "id": "d5e69da8",
   "metadata": {},
   "outputs": [
    {
     "name": "stdout",
     "output_type": "stream",
     "text": [
      "Aphelion = 73650.64468712303 km\n"
     ]
    }
   ],
   "source": [
    "eccentricity = param[0]/10000\n",
    "aphelion = p*(1-eccentricity)/(R*1000)\n",
    "print(\"Aphelion = \" + str(aphelion) + \" km\" )"
   ]
  },
  {
   "cell_type": "code",
   "execution_count": 412,
   "id": "c5fe2a1b",
   "metadata": {},
   "outputs": [
    {
     "name": "stdout",
     "output_type": "stream",
     "text": [
      "Perhelion = 225545.39769043756 km\n"
     ]
    }
   ],
   "source": [
    "Perhelion = p*(1+0.507676)/(1000*R) #in Km\n",
    "print(\"Perhelion = \" + str(Perhelion) + \" km\" )"
   ]
  },
  {
   "cell_type": "code",
   "execution_count": null,
   "id": "104783dd",
   "metadata": {},
   "outputs": [],
   "source": []
  },
  {
   "cell_type": "code",
   "execution_count": null,
   "id": "bef4ccc1",
   "metadata": {},
   "outputs": [],
   "source": []
  }
 ],
 "metadata": {
  "kernelspec": {
   "display_name": "Python 3",
   "language": "python",
   "name": "python3"
  },
  "language_info": {
   "codemirror_mode": {
    "name": "ipython",
    "version": 3
   },
   "file_extension": ".py",
   "mimetype": "text/x-python",
   "name": "python",
   "nbconvert_exporter": "python",
   "pygments_lexer": "ipython3",
   "version": "3.6.9"
  }
 },
 "nbformat": 4,
 "nbformat_minor": 5
}
